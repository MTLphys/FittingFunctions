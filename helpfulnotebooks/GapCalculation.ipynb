{
 "cells": [
  {
   "cell_type": "code",
   "execution_count": 10,
   "metadata": {},
   "outputs": [
    {
     "name": "stdout",
     "output_type": "stream",
     "text": [
      "lattice constant for GaAs 5.644035485025999e-10\n",
      "lattice constant Al 0.2 Ga 0.8 As:  5.645764361264959e-10\n",
      "lattice mismatch:  0.00030631916534653675\n",
      "Shell Thickness 6.499999999999999e-08\n",
      "strain parameter 0.00014812492511134432\n",
      "heavy hole bandgap 1.517617909006736\n",
      "light hole bandgap 1.5186516460161514\n",
      "energy difference 0.0010337370094153364\n",
      "Heavy hole binding energy 3.1192914507696696 meV\n",
      "Light hole binding energy 4.892040785062518 meV\n",
      "Heavy hole location 1.5144986175559665\n",
      "light hole location 1.5137596052310889\n",
      "net total difference 2.8064863437081846\n"
     ]
    },
    {
     "data": {
      "text/plain": [
       "(0.0, 10.0)"
      ]
     },
     "execution_count": 10,
     "metadata": {},
     "output_type": "execute_result"
    },
    {
     "data": {
      "image/png": "[encoded data removed]",
      "text/plain": [
       "<Figure size 640x480 with 1 Axes>"
      ]
     },
     "metadata": {},
     "output_type": "display_data"
    }
   ],
   "source": [
    "from scipy import constants as c \n",
    "import numpy as np\n",
    "import matplotlib.pyplot as plt \n",
    "T=14#expiremental tempurature\n",
    "X = 20/100 #fractional Concentration of Al \n",
    "CAlGaAs= (5.73-.53*X)*1e-6 #/C Coeffiecient of thermal expansion \n",
    "aAlGaAsRT = (5.6533+.0078*X)*1e-10 #m RT lattice constant AlGaAs\n",
    "aAlGaAs=aAlGaAsRT*(1+CAlGaAs*(T-300))#m at temp lattice constant\n",
    "CGaAs = (5.73)*1e-6 #/C Coeffiecient of thermal expansion\n",
    "aGaAsRT = (5.6533)*1e-10 #m RTlattice constant GaAs\n",
    "aGaAs = aGaAsRT*(1+CGaAs*(T-300))#m at temp lattice constant GaAs\n",
    "print('lattice constant for GaAs',aGaAs)\n",
    "print('lattice constant Al',X,'Ga',1-X,'As: ',aAlGaAs)\n",
    "f = (aAlGaAs-aGaAs)/aGaAs #strain parameter \n",
    "#f = 5.15e-4\n",
    "print('lattice mismatch: ',f)\n",
    "Rc = 75e-9 #32e-9#nm core radius\n",
    "hc = 30e-9 #Rc*.19#nm cap thickness \n",
    "hs = (340e-9/2-Rc-hc)#np.linspace(0,320e-9)#nm shell thickness\n",
    "print('Shell Thickness',hs)\n",
    "epszz = f*((hs/Rc)**2+2*(hs/Rc))/((hs/Rc)**2+(hc/Rc)**2+2*(hc/Rc)*(1+hs/Rc)+2*(hs/Rc)+1)\n",
    "#strain coeffeicient for nanowires\n",
    "print('strain parameter',epszz)\n",
    "EGaAsG = 1.519 #gap energy \n",
    "a =-8.6 # Hydrostatic strain coeffiecient \n",
    "d =-5.2 # \n",
    "nu = .16 #Poisson ratio\n",
    "Del0 = -.34 # Splitt off band energy \n",
    "H = (1-2*nu)/3 # Modified Poisson equation \n",
    "Ecblh = EGaAsG +(3*a*H-np.sqrt(3)/2*d*(1-H))*epszz - 3*d**2*(1-H)/(2*Del0)*epszz**2 #alternate band splitting formula \n",
    "Ecbhh = EGaAsG +(3*a*H+np.sqrt(3)/2*d*(1-H))*epszz #alternate band splitting formula\n",
    "\n",
    "#Ecbhh = EGaAsG +(a*(1-2*nu)+d/np.sqrt(3)*(1-nu))*epszz \n",
    "#Ecblh = EGaAsG +(a*(1-2*nu)-d/np.sqrt(3)*(1-nu))*epszz-(d**2/Del0)*(1-nu)*(epszz**2)\n",
    "print('heavy hole bandgap',Ecbhh)\n",
    "print('light hole bandgap',Ecblh)\n",
    "print('energy difference',np.abs(Ecbhh-Ecblh))\n",
    "me = .068*c.m_e #Conduction band electron mass\n",
    "mlh = .087*c.m_e#light hole mass\n",
    "mhh = .50*c.m_e#heavy hole mass\n",
    "mulh = (1/me+1/mlh)**-1 #light hole reduced mass\n",
    "muhh = (1/me+1/mhh)**-1 #heavy hole reduced mass\n",
    "epsGaAs = 12.9 #Static relative dielectric constant \n",
    "Exhh = (mulh/c.m_e)*(1/epsGaAs**2)*13.6#heavy hole exciton binding energy\n",
    "Exlh = muhh/c.m_e*(1/epsGaAs**2)*13.6#light hole exciton binding energy \n",
    "print('Heavy hole binding energy',Exhh*1000,'meV')\n",
    "print('Light hole binding energy',Exlh*1000,'meV')\n",
    "print('Heavy hole location',Ecbhh-Exhh)\n",
    "print('light hole location', Ecblh-Exlh)\n",
    "print('net total difference',1000*(np.abs(Ecbhh-Ecblh+Exhh-Exlh)) )\n",
    "plt.plot(hs/Rc,Ecbhh)\n",
    "plt.plot(hs/Rc,Ecblh)\n",
    "plt.minorticks_on()\n",
    "plt.grid()\n",
    "plt.ylim(1.49,1.52)\n",
    "plt.xlim(0,10)\n",
    "#np.savetxt('E for ref.csv',[hs/Rc,Ecblh,Ecbhh])"
   ]
  },
  {
   "cell_type": "code",
   "execution_count": 136,
   "metadata": {},
   "outputs": [
    {
     "data": {
      "text/plain": [
       "0.0041122179223701"
      ]
     },
     "execution_count": 136,
     "metadata": {},
     "output_type": "execute_result"
    }
   ],
   "source": [
    "np.abs(Exlh-Exhh/4)"
   ]
  },
  {
   "cell_type": "code",
   "execution_count": 9,
   "metadata": {},
   "outputs": [
    {
     "data": {
      "text/plain": [
       "0.0004956589749998515"
      ]
     },
     "execution_count": 9,
     "metadata": {},
     "output_type": "execute_result"
    }
   ],
   "source": [
    "(0.0002813860957663907/0.567701)"
   ]
  },
  {
   "cell_type": "code",
   "execution_count": 10,
   "metadata": {},
   "outputs": [
    {
     "data": {
      "text/plain": [
       "0.0005169354984444895"
      ]
     },
     "execution_count": 10,
     "metadata": {},
     "output_type": "execute_result"
    }
   ],
   "source": [
    "0.00019606846520501045/0.37929 "
   ]
  },
  {
   "cell_type": "code",
   "execution_count": null,
   "metadata": {},
   "outputs": [],
   "source": []
  }
 ],
 "metadata": {
  "kernelspec": {
   "display_name": "base",
   "language": "python",
   "name": "python3"
  },
  "language_info": {
   "codemirror_mode": {
    "name": "ipython",
    "version": 3
   },
   "file_extension": ".py",
   "mimetype": "text/x-python",
   "name": "python",
   "nbconvert_exporter": "python",
   "pygments_lexer": "ipython3",
   "version": "3.11.5"
  }
 },
 "nbformat": 4,
 "nbformat_minor": 2
}
