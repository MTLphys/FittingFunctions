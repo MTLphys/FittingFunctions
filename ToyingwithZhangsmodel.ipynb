{
 "cells": [
  {
   "cell_type": "code",
   "execution_count": 130,
   "metadata": {},
   "outputs": [],
   "source": [
    "import numpy as np \n",
    "import pandas as pd \n",
    "import glob as gb \n",
    "import matplotlib.pyplot as plt \n",
    "\n",
    "directory = 'C:/Users/mattl/OneDrive - University of Cincinnati/Desktop/Lab Data/NanoTriangles/AbsorptionMeasurements/Cryostat Measures/Old Fiber Test'\n",
    "files=gb.glob(directory+\"/*.csv\")\n",
    "for i,file in enumerate(files):\n",
    "    npfile = np.loadtxt(file,delimiter=';',skiprows=54,max_rows=3647)\n",
    "    pdfile = pd.read_csv(file,delimiter=';',skiprows=2)\n",
    "    index = 17\n",
    "    inttime = pdfile['20240529'][index:index+1]\n",
    "    inttime =float(inttime.values[0])\n",
    "    columnname = file[len(directory)+1:-4]\n",
    "    if(i==0):\n",
    "        outputpanda = pd.DataFrame({'wavelength [nm air]':npfile[:,0],columnname:npfile[:,1]/inttime})\n",
    "    outputpanda[columnname]=npfile[:,1]/inttime\n",
    "outputpanda.to_csv(directory+'/compileddata.csv')"
   ]
  },
  {
   "cell_type": "code",
   "execution_count": null,
   "metadata": {},
   "outputs": [],
   "source": []
  }
 ],
 "metadata": {
  "kernelspec": {
   "display_name": ".venv",
   "language": "python",
   "name": "python3"
  },
  "language_info": {
   "codemirror_mode": {
    "name": "ipython",
    "version": 3
   },
   "file_extension": ".py",
   "mimetype": "text/x-python",
   "name": "python",
   "nbconvert_exporter": "python",
   "pygments_lexer": "ipython3",
   "version": "3.11.5"
  }
 },
 "nbformat": 4,
 "nbformat_minor": 2
}
