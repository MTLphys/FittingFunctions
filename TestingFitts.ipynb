{
 "cells": [
  {
   "cell_type": "code",
   "execution_count": 2,
   "metadata": {},
   "outputs": [
    {
     "ename": "ModuleNotFoundError",
     "evalue": "No module named 'resources'",
     "output_type": "error",
     "traceback": [
      "\u001b[1;31m---------------------------------------------------------------------------\u001b[0m",
      "\u001b[1;31mModuleNotFoundError\u001b[0m                       Traceback (most recent call last)",
      "Cell \u001b[1;32mIn[2], line 3\u001b[0m\n\u001b[0;32m      1\u001b[0m \u001b[38;5;28;01mimport\u001b[39;00m \u001b[38;5;21;01mos\u001b[39;00m \n\u001b[0;32m      2\u001b[0m \u001b[38;5;28;01mimport\u001b[39;00m \u001b[38;5;21;01mnumpy\u001b[39;00m \u001b[38;5;28;01mas\u001b[39;00m \u001b[38;5;21;01mnp\u001b[39;00m \n\u001b[1;32m----> 3\u001b[0m \u001b[38;5;28;01mfrom\u001b[39;00m \u001b[38;5;21;01mresources\u001b[39;00m\u001b[38;5;21;01m.\u001b[39;00m\u001b[38;5;21;01mobefitfunct\u001b[39;00m \u001b[38;5;28;01mimport\u001b[39;00m fitfunctt \n\u001b[0;32m      4\u001b[0m \u001b[38;5;28;01mfrom\u001b[39;00m \u001b[38;5;21;01mscipy\u001b[39;00m \u001b[38;5;28;01mimport\u001b[39;00m constants \u001b[38;5;28;01mas\u001b[39;00m c \n\u001b[0;32m      5\u001b[0m ol21 \u001b[38;5;241m=\u001b[39m \u001b[38;5;241m1.0\u001b[39m\u001b[38;5;66;03m#overlap of hh exciton state\u001b[39;00m\n",
      "\u001b[1;31mModuleNotFoundError\u001b[0m: No module named 'resources'"
     ]
    }
   ],
   "source": [
    "import os \n",
    "import numpy as np \n",
    "from resources.obefitfunct import fitfunctt \n",
    "from scipy import constants as c \n",
    "import matplotlib.pyplot as plt  \n",
    "ol21 = 1.0#overlap of hh exciton state\n",
    "ol61 = 0.8#overlap of lh exciton state\n",
    "oli21 = 0.5 #overlap of hh bound exciton state\n",
    "oli61 = 0.5 #overlap of lh bound exciton state\n",
    "Ex1 =  c.e*0.0032/c.hbar\n",
    "Ex2 =  c.e*0.0032/c.hbar\n",
    "EB  = -c.e*0.023/c.hbar\n",
    "gm21  = 3.5e12#hh Exciton dephasing rate /s <-Fit Parameter\n",
    "gm61  = 3.5e12#lh Exciton dephasing rate /s <-Fit Parameter\n",
    "gmi21 = 5.0e12#Impurity bound hh Exciton dephasing rate /s <-Fit Parameter\n",
    "gmi61 = 5.0e12#Impurity bound lh Exciton dephasing rate /s <-Fit Parameter\n",
    "K = 1e-117#\n",
    "p0 = [Ex1   ,Ex2   , # 0,1\n",
    "      EB    ,ol21  , # 2,3\n",
    "      ol61  ,oli21 , # 4,5\n",
    "      oli61 ,gm21  , # 6,7\n",
    "      gm61, gmi21  , # 8,9\n",
    "      gmi61, K     ]   # 10,11\n",
    "\n",
    "\n",
    "t = np.linspace(7e-12,10e-12,200)\n",
    "Pv = fitfunctt(t,*p0)\n",
    "\n",
    "fig,axs = plt.subplots(2)\n",
    "axs[0].set_yscale('log')\n",
    "axs[1].set_yscale('log')\n",
    "axs[0].plot(t*1e12-7,Pv)\n",
    "\n",
    "\n",
    "tau = np.linspace(-1.5e-12,1.5e-12,1000)\n",
    "t = 7.1e-12\n",
    "Pv = fitfunctt(t,*p0,tau=tau)\n",
    "axs[1].plot(tau*1e12,Pv)\n",
    "tau = 0e-12\n",
    "plt.show()"
   ]
  },
  {
   "cell_type": "code",
   "execution_count": null,
   "metadata": {},
   "outputs": [],
   "source": []
  }
 ],
 "metadata": {
  "kernelspec": {
   "display_name": "base",
   "language": "python",
   "name": "python3"
  },
  "language_info": {
   "codemirror_mode": {
    "name": "ipython",
    "version": 3
   },
   "file_extension": ".py",
   "mimetype": "text/x-python",
   "name": "python",
   "nbconvert_exporter": "python",
   "pygments_lexer": "ipython3",
   "version": "3.11.5"
  }
 },
 "nbformat": 4,
 "nbformat_minor": 2
}
