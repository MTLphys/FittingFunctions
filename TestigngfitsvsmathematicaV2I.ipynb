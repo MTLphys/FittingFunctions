{
 "cells": [
  {
   "cell_type": "code",
   "execution_count": 4,
   "metadata": {},
   "outputs": [
    {
     "name": "stdout",
     "output_type": "stream",
     "text": [
      "1.000000000000016e-14\n",
      "1.5095\n",
      "1.5066000000000002\n",
      "1.4895\n",
      "1.4835\n",
      "[0.00567092 0.        ]\n",
      "1.000000000000016e-14\n",
      "1.5095\n",
      "1.5066000000000002\n",
      "1.4895\n",
      "1.4835\n",
      "[0.00567092 0.        ]\n"
     ]
    }
   ],
   "source": [
    "#fit for 815\n",
    "maindir ='C:/Users/mattl/OneDrive - University of Cincinnati/Desktop/'\n",
    "import os \n",
    "import numpy as np \n",
    "from resources.obefitfunctV2I import fitfunctt \n",
    "from scipy import constants as c \n",
    "import matplotlib.pyplot as plt   \n",
    "from scipy.optimize import curve_fit\n",
    "from scipy.signal import fftconvolve\n",
    "\n",
    "def gauss(t,sigma,t0):\n",
    "      return 1/(sigma*np.sqrt(np.pi*2))*np.exp(-.5*((t-t0)/(sigma))**2)\n",
    "directory =maindir+'Simulation Data/mathematica Comaprison/'\n",
    "#T3reffile = '2mW1mW2mWphotonechok1-0.3ps3.0psk3-3.0ps3.0psk2-4psFWHM815135T3refcut.csv'\n",
    "#T12file = '2mW1mW2mWphotonechok1-0.3ps3.0psk3-3.0ps3.0psk2-4psFWHM815135T12cut.csv'\n",
    "#outputfile = '2mW1mW2mWphotonechok1-0.3ps3.0psk3-3.0ps3.0psk2-4psFWHM815135Results.csv'\n",
    "#T3refdata = np.loadtxt(directory+T3reffile,delimiter=';')\n",
    "#T12data   = np.loadtxt(directory+T12file,delimiter=';')\n",
    "\n",
    "\n",
    "ol21 = 0.005670920777823729#overlap of hh exciton state\n",
    "ol61 = 0.005111096170500683#overlap of lh exciton state\n",
    "oli21 = 0.0009404403731076417 #overlap of hh bound exciton state\n",
    "oli61 = 0.00060222778098459 #overlap of lh bound exciton state\n",
    "Ex1 =  c.e*0.0029/c.hbar#exciton splitting energy\n",
    "Ex2 =  c.e*0.006/c.hbar#Acceptor bound exciton splitting energy \n",
    "EB  =  c.e*0.020/c.hbar #Acp0 = [Ex1   ,Ex2   , # 0,1\n",
    "  \n",
    "gm21  = 3.5e12#hh Exciton dephasing rate /s <-Fit Parameter\n",
    "gm61  = 3.5e12#lh Exciton dephasing rate /s <-Fit Parameter\n",
    "gmi21 = 1.5e12#Impurity bound hh Exciton dephasing rate /s <-Fit Parameter\n",
    "gmi61 = 1.5e12#Impurity bound lh Exciton dephasing rate /s <-Fit Parameter\n",
    "K = 0.6e-112#\n",
    "Ad = 0e-3\n",
    "p0 = [Ex1   ,Ex2   , # 0,1\n",
    "      EB    ,ol21  , # 2,3\n",
    "      ol61  ,oli21 , # 4,5\n",
    "      oli61 ,gm21  , # 6,7\n",
    "      gm61  ,gmi21  , # 8,9\n",
    "      gmi61 ,K      , # 10,11    \n",
    "      Ad     ] # 12  \n",
    "\n",
    "\n",
    "t = np.linspace(3.0e-12,17e-12,1401)\n",
    "dt = t[1]-t[0]\n",
    "t0 =(t[-1]+t[0])/2\n",
    "print(t[1]-t[0])\n",
    "rawfile= 'T3reftracepythonV2I.csv'\n",
    "#bgfile = 'broadened.csv'\n",
    "Pv = fitfunctt(t,*p0)\n",
    "sf = np.vstack([t,Pv])\n",
    "np.savetxt(directory+rawfile,sf.transpose(),delimiter=',')\n",
    "t\n",
    "rawfile= 'T12tracepythonV2I.csv'\n",
    "#bgfile = 'broadened.csv'\n",
    "tau = np.linspace(-4e-12,4e-12,801)\n",
    "t = 4.02e-12\n",
    "print(tau[1]-tau[0])\n",
    "Pv = fitfunctt(t,*p0,tau=tau)\n",
    "sf = np.vstack([tau,Pv])\n",
    "np.savetxt(directory+rawfile,sf.transpose(),delimiter=',')"
   ]
  },
  {
   "cell_type": "code",
   "execution_count": 2,
   "metadata": {},
   "outputs": [
    {
     "data": {
      "text/plain": [
       "4.003680204055118"
      ]
     },
     "execution_count": 2,
     "metadata": {},
     "output_type": "execute_result"
    }
   ],
   "source": [
    "0.00151/3.77153E-4"
   ]
  },
  {
   "cell_type": "code",
   "execution_count": 5,
   "metadata": {},
   "outputs": [
    {
     "name": "stdout",
     "output_type": "stream",
     "text": [
      "1.000000000000016e-14\n",
      "1.51\n",
      "1.508\n",
      "1.506\n",
      "1.504\n",
      "[1. 0.]\n",
      "1.000000000000016e-14\n",
      "1.51\n",
      "1.508\n",
      "1.506\n",
      "1.504\n",
      "[1. 0.]\n"
     ]
    }
   ],
   "source": [
    "#fit for 815\n",
    "maindir ='C:/Users/mattl/OneDrive - University of Cincinnati/Desktop/'\n",
    "import os \n",
    "import numpy as np \n",
    "from resources.obefitfunctlhhh import fitfunctt \n",
    "from scipy import constants as c \n",
    "import matplotlib.pyplot as plt   \n",
    "from scipy.optimize import curve_fit\n",
    "from scipy.signal import fftconvolve\n",
    "\n",
    "def gauss(t,sigma,t0):\n",
    "      return 1/(sigma*np.sqrt(np.pi*2))*np.exp(-.5*((t-t0)/(sigma))**2)\n",
    "directory =maindir+'Simulation Data/mathematica Comaprison/'\n",
    "#T3reffile = '2mW1mW2mWphotonechok1-0.3ps3.0psk3-3.0ps3.0psk2-4psFWHM815135T3refcut.csv'\n",
    "#T12file = '2mW1mW2mWphotonechok1-0.3ps3.0psk3-3.0ps3.0psk2-4psFWHM815135T12cut.csv'\n",
    "#outputfile = '2mW1mW2mWphotonechok1-0.3ps3.0psk3-3.0ps3.0psk2-4psFWHM815135Results.csv'\n",
    "#T3refdata = np.loadtxt(directory+T3reffile,delimiter=';')\n",
    "#T12data   = np.loadtxt(directory+T12file,delimiter=';')\n",
    "\n",
    "\n",
    "ol21 = 1#overlap of hh exciton state\n",
    "ol61 = 1#overlap of lh exciton state\n",
    "oli21 = .8 #overlap of hh bound exciton state\n",
    "oli61 = .8 #overlap of lh bound exciton state\n",
    "Ex1 =  c.e*0.002/c.hbar#exciton splitting energy\n",
    "Ex2 =  c.e*0.002/c.hbar#Acceptor bound exciton splitting energy \n",
    "EB  =  c.e*0.004/c.hbar #Acp0 = [Ex1   ,Ex2   , # 0,1\n",
    "  \n",
    "gm21  = 3.5e12#hh Exciton dephasing rate /s <-Fit Parameter\n",
    "gm61  = 3.5e12#lh Exciton dephasing rate /s <-Fit Parameter\n",
    "gmi21 = 1.5e12#Impurity bound hh Exciton dephasing rate /s <-Fit Parameter\n",
    "gmi61 = 1.5e12#Impurity bound lh Exciton dephasing rate /s <-Fit Parameter\n",
    "K = 0.6e-112#\n",
    "Ad = 0e-3\n",
    "p0 = [Ex1   ,Ex2   , # 0,1\n",
    "      EB    ,ol21  , # 2,3\n",
    "      ol61  ,oli21 , # 4,5\n",
    "      oli61 ,gm21  , # 6,7\n",
    "      gm61  ,gmi21  , # 8,9\n",
    "      gmi61 ,K      , # 10,11    \n",
    "      Ad     ] # 12  \n",
    "\n",
    "\n",
    "t = np.linspace(3.0e-12,17e-12,1401)\n",
    "dt = t[1]-t[0]\n",
    "t0 =(t[-1]+t[0])/2\n",
    "print(t[1]-t[0])\n",
    "rawfile= 'T3reftracepythonlhhh.csv'\n",
    "#bgfile = 'broadened.csv'\n",
    "Pv = fitfunctt(t,*p0)\n",
    "sf = np.vstack([t,Pv])\n",
    "np.savetxt(directory+rawfile,sf.transpose(),delimiter=',')\n",
    "t\n",
    "rawfile= 'T12tracepythonlhhh.csv'\n",
    "#bgfile = 'broadened.csv'\n",
    "tau = np.linspace(-4e-12,4e-12,801)\n",
    "t = 4.02e-12\n",
    "print(tau[1]-tau[0])\n",
    "Pv = fitfunctt(t,*p0,tau=tau)\n",
    "sf = np.vstack([tau,Pv])\n",
    "np.savetxt(directory+rawfile,sf.transpose(),delimiter=',')"
   ]
  },
  {
   "cell_type": "code",
   "execution_count": null,
   "metadata": {},
   "outputs": [],
   "source": []
  }
 ],
 "metadata": {
  "kernelspec": {
   "display_name": "base",
   "language": "python",
   "name": "python3"
  },
  "language_info": {
   "codemirror_mode": {
    "name": "ipython",
    "version": 3
   },
   "file_extension": ".py",
   "mimetype": "text/x-python",
   "name": "python",
   "nbconvert_exporter": "python",
   "pygments_lexer": "ipython3",
   "version": "3.11.5"
  }
 },
 "nbformat": 4,
 "nbformat_minor": 2
}
